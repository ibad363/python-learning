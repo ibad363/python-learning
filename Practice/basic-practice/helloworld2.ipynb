{
  "nbformat": 4,
  "nbformat_minor": 0,
  "metadata": {
    "colab": {
      "provenance": [],
      "authorship_tag": "ABX9TyPFsN765h3fRbm+YqRqIDyH",
      "include_colab_link": true
    },
    "kernelspec": {
      "name": "python3",
      "display_name": "Python 3"
    },
    "language_info": {
      "name": "python"
    }
  },
  "cells": [
    {
      "cell_type": "markdown",
      "metadata": {
        "id": "view-in-github",
        "colab_type": "text"
      },
      "source": [
        "<a href=\"https://colab.research.google.com/github/ibad363/python-learning/blob/main/Practice/basic-practice/helloworld2.ipynb\" target=\"_parent\"><img src=\"https://colab.research.google.com/assets/colab-badge.svg\" alt=\"Open In Colab\"/></a>"
      ]
    },
    {
      "cell_type": "code",
      "execution_count": null,
      "metadata": {
        "colab": {
          "base_uri": "https://localhost:8080/"
        },
        "id": "AEPFO1DKJEiW",
        "outputId": "6235bc34-387e-4d73-ed39-4971d1a41682"
      },
      "outputs": [
        {
          "output_type": "stream",
          "name": "stdout",
          "text": [
            "Hello World\n",
            "Hello World\n",
            "Hello World\n"
          ]
        }
      ],
      "source": [
        "print(\"Hello World\")\n",
        "\n",
        "print(\"Hello World\")\n",
        "\n",
        "print(\"Hello World\")"
      ]
    }
  ]
}