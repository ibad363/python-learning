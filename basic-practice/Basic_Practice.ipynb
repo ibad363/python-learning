{
  "nbformat": 4,
  "nbformat_minor": 0,
  "metadata": {
    "colab": {
      "provenance": [],
      "authorship_tag": "ABX9TyP+68Nou3B8R1bWrP2eD5YL",
      "include_colab_link": true
    },
    "kernelspec": {
      "name": "python3",
      "display_name": "Python 3"
    },
    "language_info": {
      "name": "python"
    }
  },
  "cells": [
    {
      "cell_type": "markdown",
      "metadata": {
        "id": "view-in-github",
        "colab_type": "text"
      },
      "source": [
        "<a href=\"https://colab.research.google.com/github/ibad363/python-learning/blob/main/Basic_Practice.ipynb\" target=\"_parent\"><img src=\"https://colab.research.google.com/assets/colab-badge.svg\" alt=\"Open In Colab\"/></a>"
      ]
    },
    {
      "cell_type": "code",
      "execution_count": null,
      "metadata": {
        "colab": {
          "base_uri": "https://localhost:8080/"
        },
        "id": "3bumhGmkv7gU",
        "outputId": "9af065e6-d361-4b16-c2c6-f3d6ba426713"
      },
      "outputs": [
        {
          "output_type": "stream",
          "name": "stdout",
          "text": [
            "Ibad\n"
          ]
        }
      ],
      "source": [
        "print(\"Ibad\")"
      ]
    },
    {
      "cell_type": "code",
      "source": [],
      "metadata": {
        "id": "YC3A5JbhDGph"
      },
      "execution_count": null,
      "outputs": []
    },
    {
      "cell_type": "code",
      "source": [
        "# prompt: Write a Python program that uses indentation to define a block of code within an if statement. Use consistent indentation and follow the rules outlined above\n",
        "\n",
        "# Existing code (if any)\n",
        "\n",
        "x = 10\n",
        "\n",
        "if x > 5:\n",
        "  print(\"x is greater than 5\")\n",
        "  print(\"This is inside the if block\") # Consistent indentation\n",
        "  y = x * 2\n",
        "  print(y)\n",
        "else:\n",
        "  print(\"x is not greater than 5\")\n",
        "print(\"Ibad\") # This will always execute regardless of the if/else statement\n",
        "\n",
        "\n"
      ],
      "metadata": {
        "colab": {
          "base_uri": "https://localhost:8080/"
        },
        "id": "hRMZSzpACLFM",
        "outputId": "9b34fb57-f875-45e2-cfd4-9de3b19b3a30"
      },
      "execution_count": null,
      "outputs": [
        {
          "output_type": "stream",
          "name": "stdout",
          "text": [
            "x is greater than 5\n",
            "This is inside the if block\n",
            "20\n",
            "Ibad\n"
          ]
        }
      ]
    }
  ]
}